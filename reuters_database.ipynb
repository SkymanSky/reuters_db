{
 "cells": [
  {
   "cell_type": "markdown",
   "id": "8fb9a577",
   "metadata": {},
   "source": [
    "Kod 3.12 Reuters veri setini yüklemek"
   ]
  },
  {
   "cell_type": "code",
   "execution_count": 2,
   "id": "02251a8c",
   "metadata": {},
   "outputs": [],
   "source": [
    "from keras.datasets import reuters"
   ]
  },
  {
   "cell_type": "code",
   "execution_count": 4,
   "id": "1d7b1727",
   "metadata": {},
   "outputs": [
    {
     "name": "stdout",
     "output_type": "stream",
     "text": [
      "Downloading data from https://storage.googleapis.com/tensorflow/tf-keras-datasets/reuters.npz\n",
      "2113536/2110848 [==============================] - 1s 0us/step\n",
      "2121728/2110848 [==============================] - 1s 0us/step\n"
     ]
    }
   ],
   "source": [
    "(train_data,train_labels),(test_data,test_labels)=reuters.load_data(num_words=10000)\n",
    "#num_words verilerin en sık karşılaşılan 10.000 kelime ile sınırlı olmasını sağlar."
   ]
  },
  {
   "cell_type": "code",
   "execution_count": 5,
   "id": "4713a2b2",
   "metadata": {},
   "outputs": [
    {
     "data": {
      "text/plain": [
       "8982"
      ]
     },
     "execution_count": 5,
     "metadata": {},
     "output_type": "execute_result"
    }
   ],
   "source": [
    "len(train_data)"
   ]
  },
  {
   "cell_type": "code",
   "execution_count": 6,
   "id": "f93b6d46",
   "metadata": {},
   "outputs": [
    {
     "data": {
      "text/plain": [
       "2246"
      ]
     },
     "execution_count": 6,
     "metadata": {},
     "output_type": "execute_result"
    }
   ],
   "source": [
    "len(test_data)"
   ]
  },
  {
   "cell_type": "code",
   "execution_count": 8,
   "id": "1b351555",
   "metadata": {
    "collapsed": true
   },
   "outputs": [
    {
     "data": {
      "text/plain": [
       "[1,\n",
       " 245,\n",
       " 273,\n",
       " 207,\n",
       " 156,\n",
       " 53,\n",
       " 74,\n",
       " 160,\n",
       " 26,\n",
       " 14,\n",
       " 46,\n",
       " 296,\n",
       " 26,\n",
       " 39,\n",
       " 74,\n",
       " 2979,\n",
       " 3554,\n",
       " 14,\n",
       " 46,\n",
       " 4689,\n",
       " 4329,\n",
       " 86,\n",
       " 61,\n",
       " 3499,\n",
       " 4795,\n",
       " 14,\n",
       " 61,\n",
       " 451,\n",
       " 4329,\n",
       " 17,\n",
       " 12]"
      ]
     },
     "execution_count": 8,
     "metadata": {},
     "output_type": "execute_result"
    }
   ],
   "source": [
    "#Her örnek tam sayılardan oluşan bir listedir.\n",
    "train_data[10]"
   ]
  },
  {
   "cell_type": "markdown",
   "id": "9cbbc32b",
   "metadata": {},
   "source": [
    "Kod 3.13 Örneklerde tam sayılardan oluşan listeleri metne dönüştürmek"
   ]
  },
  {
   "cell_type": "code",
   "execution_count": 13,
   "id": "fd082d28",
   "metadata": {},
   "outputs": [],
   "source": [
    "word_index=reuters.get_word_index()\n",
    "reverse_word_index=dict([(value,key) for (key,value) in word_index.items()])\n",
    "decoded_newswire=' '.join([reverse_word_index.get(i-3,'?') for i in train_data[2]])\n",
    "#İndekslerin 3 ten başladığına dikkatiniz çekerim.\n",
    "#Çünkü 0,1 ve 2 \"doldurma\",\"başlangıç\" ve \"bilinmeyen\" için ayrılmıştır."
   ]
  },
  {
   "cell_type": "code",
   "execution_count": 14,
   "id": "825b639a",
   "metadata": {},
   "outputs": [
    {
     "data": {
      "text/plain": [
       "'? shr 3 28 dlrs vs 22 cts shr diluted 2 99 dlrs vs 22 cts net 46 0 mln vs 3 328 000 avg shrs 14 0 mln vs 15 2 mln year shr 5 41 dlrs vs 1 56 dlrs shr diluted 4 94 dlrs vs 1 50 dlrs net 78 2 mln vs 25 9 mln avg shrs 14 5 mln vs 15 1 mln note earnings per share reflect the two for one split effective january 6 1987 per share amounts are calculated after preferred stock dividends loss continuing operations for the qtr 1986 includes gains of sale of investments in ? corp of 14 mln dlrs and associated companies of 4 189 000 less writedowns of investments in national ? inc of 11 8 mln and ? corp of 15 6 mln reuter 3'"
      ]
     },
     "execution_count": 14,
     "metadata": {},
     "output_type": "execute_result"
    }
   ],
   "source": [
    "decoded_newswire"
   ]
  },
  {
   "cell_type": "code",
   "execution_count": 18,
   "id": "64fbba94",
   "metadata": {},
   "outputs": [
    {
     "data": {
      "text/plain": [
       "3"
      ]
     },
     "execution_count": 18,
     "metadata": {},
     "output_type": "execute_result"
    }
   ],
   "source": [
    "#Etiketler her örnek için 0' dan 45' e kadar konu indekslerini gösteren bir tam sayıdır.\n",
    "train_labels[10]"
   ]
  },
  {
   "cell_type": "markdown",
   "id": "e26c1395",
   "metadata": {},
   "source": [
    "Kod 3.14 Verileri kodlama"
   ]
  },
  {
   "cell_type": "code",
   "execution_count": 19,
   "id": "f44244ee",
   "metadata": {},
   "outputs": [],
   "source": [
    "#Verileri vektöre dönüştürebilirsiniz.\n",
    "import numpy as np\n",
    "\n",
    "def vectorize_sequences(sequences,dimension=10000):\n",
    "    results=np.zeros((len(sequences),dimension))\n",
    "    for i, sequence in enumerate(sequences):\n",
    "        results[i,sequence]=1\n",
    "    return results\n",
    "\n",
    "#Eğitim verilerinin vektöre dönüştürülmesi\n",
    "x_train=vectorize_sequences(train_data)\n",
    "\n",
    "#Test verilerinin vektöre dönüştürülmesi\n",
    "x_test=vectorize_sequences(test_data)"
   ]
  },
  {
   "cell_type": "code",
   "execution_count": 22,
   "id": "9db06e48",
   "metadata": {},
   "outputs": [
    {
     "name": "stdout",
     "output_type": "stream",
     "text": [
      "[0. 1. 1. ... 0. 0. 0.]\n"
     ]
    }
   ],
   "source": [
    "print(x_train[0])"
   ]
  },
  {
   "cell_type": "code",
   "execution_count": 25,
   "id": "39ebca9d",
   "metadata": {},
   "outputs": [],
   "source": [
    "#Etiketleri vektöre dönüştürmek için one-hot encoding yapılır. 46 farklı haber kategorisi olduğu için dimension=46\n",
    "def one_hot_encoding(labels,dimension=46):\n",
    "    results=np.zeros((len(labels),dimension))\n",
    "    for i, label in enumerate(labels):\n",
    "        results[i,label]=1\n",
    "    return results\n",
    "\n",
    "#Eğitim ve test etiketlerinin vektöre dönüştürülmesi\n",
    "one_hot_train_labels=one_hot_encoding(train_labels)\n",
    "one_hot_test_labels=one_hot_encoding(test_labels)"
   ]
  },
  {
   "cell_type": "code",
   "execution_count": 26,
   "id": "b58251ae",
   "metadata": {},
   "outputs": [
    {
     "name": "stdout",
     "output_type": "stream",
     "text": [
      "[0. 0. 0. 1. 0. 0. 0. 0. 0. 0. 0. 0. 0. 0. 0. 0. 0. 0. 0. 0. 0. 0. 0. 0.\n",
      " 0. 0. 0. 0. 0. 0. 0. 0. 0. 0. 0. 0. 0. 0. 0. 0. 0. 0. 0. 0. 0. 0.]\n"
     ]
    }
   ],
   "source": [
    "print(one_hot_test_labels[0])"
   ]
  },
  {
   "cell_type": "code",
   "execution_count": 29,
   "id": "ced3bbc0",
   "metadata": {},
   "outputs": [
    {
     "name": "stdout",
     "output_type": "stream",
     "text": [
      "[0. 0. 0. 1. 0. 0. 0. 0. 0. 0. 0. 0. 0. 0. 0. 0. 0. 0. 0. 0. 0. 0. 0. 0.\n",
      " 0. 0. 0. 0. 0. 0. 0. 0. 0. 0. 0. 0. 0. 0. 0. 0. 0. 0. 0. 0. 0. 0.]\n"
     ]
    }
   ],
   "source": [
    "#Etiketleri vektöre dönüştürmek amacıyla yapılan one-hot encoding işlemini-\n",
    "#kerasda aşağıdaki hazır fonksiyonla yapabilirsiniz\n",
    "\n",
    "from keras.utils.np_utils import to_categorical\n",
    "\n",
    "one_hot_train_labels=to_categorical(train_labels)\n",
    "one_hot_test_labels=to_categorical(test_labels)\n",
    "\n",
    "print(one_hot_test_labels[0])"
   ]
  },
  {
   "cell_type": "markdown",
   "id": "6f529d5e",
   "metadata": {},
   "source": [
    "Kod 3.15 Model Tasarımı"
   ]
  },
  {
   "cell_type": "code",
   "execution_count": null,
   "id": "00c06b63",
   "metadata": {},
   "outputs": [],
   "source": []
  }
 ],
 "metadata": {
  "kernelspec": {
   "display_name": "Python 3 (ipykernel)",
   "language": "python",
   "name": "python3"
  },
  "language_info": {
   "codemirror_mode": {
    "name": "ipython",
    "version": 3
   },
   "file_extension": ".py",
   "mimetype": "text/x-python",
   "name": "python",
   "nbconvert_exporter": "python",
   "pygments_lexer": "ipython3",
   "version": "3.9.7"
  }
 },
 "nbformat": 4,
 "nbformat_minor": 5
}
